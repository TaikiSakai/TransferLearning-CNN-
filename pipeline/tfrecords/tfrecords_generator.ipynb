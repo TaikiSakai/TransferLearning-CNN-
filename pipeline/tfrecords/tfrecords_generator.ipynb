{
 "cells": [
  {
   "cell_type": "code",
   "execution_count": 1,
   "metadata": {},
   "outputs": [
    {
     "name": "stderr",
     "output_type": "stream",
     "text": [
      "Using TensorFlow backend.\n"
     ]
    },
    {
     "name": "stdout",
     "output_type": "stream",
     "text": [
      "WARNING:tensorflow:From /var/folders/2v/2ffs_t4s1db2bd69v_47vvpr0000gn/T/ipykernel_54337/620118145.py:11: The name tf.enable_eager_execution is deprecated. Please use tf.compat.v1.enable_eager_execution instead.\n",
      "\n"
     ]
    }
   ],
   "source": [
    "import sys, os\n",
    "\n",
    "from glob import glob\n",
    "from tqdm import tqdm\n",
    "import keras\n",
    "import matplotlib.pyplot as plt\n",
    "import numpy as np\n",
    "import tensorflow as tf\n",
    "from keras.preprocessing import image\n",
    "\n",
    "tf.enable_eager_execution()"
   ]
  },
  {
   "cell_type": "code",
   "execution_count": 4,
   "metadata": {},
   "outputs": [],
   "source": [
    "data_dir = \"src\"\n",
    "train_dir = os.path.join(data_dir, \"src_aug_tfrecords_train\")#tfrecordsの出力先\n",
    "test_dir = os.path.join(data_dir, \"src_aug_tfrecords_test\")\n",
    "img_size = 255\n",
    "img_channels = 1\n",
    "num_classes = 3\n",
    "class_names = [\"ductile\", \"brittle\", \"fatigue\"]\n",
    "extension = \"*.jpg\" "
   ]
  },
  {
   "cell_type": "code",
   "execution_count": 7,
   "metadata": {},
   "outputs": [],
   "source": [
    "#学習データのパスを取得する\n",
    "def data_import(class_names, extension, src):\n",
    "    X_images = []\n",
    "    Y_labels = []\n",
    "\n",
    "    #total classn number in the dataset\n",
    "    class_index_num = 0\n",
    "    class_numbers_index = []\n",
    "    with tqdm(enumerate(class_names), \n",
    "              total=len(class_names), \n",
    "              ncols=70, \n",
    "              ascii=True) as load:\n",
    "        \n",
    "        for index, name in load:\n",
    "            read_data = src + \"\\\\\" + name\n",
    "            for file_path in glob(os.path.join(read_data, extension)):\n",
    "                X_images.append(file_path)\n",
    "                Y_labels.append(int(index))\n",
    "                class_numbers_index.append(index)\n",
    "\n",
    "            class_index_num += 1\n",
    "\n",
    "        class_numbers_index = np.asarray(class_numbers_index)\n",
    "        Y_labels = class_numbers_index\n",
    "\n",
    "        print(\"All images has been imported correctly\")\n",
    "\n",
    "        return X_images, Y_labels\n"
   ]
  },
  {
   "cell_type": "code",
   "execution_count": null,
   "metadata": {},
   "outputs": [],
   "source": []
  }
 ],
 "metadata": {
  "kernelspec": {
   "display_name": "tensorflow",
   "language": "python",
   "name": "python3"
  },
  "language_info": {
   "codemirror_mode": {
    "name": "ipython",
    "version": 3
   },
   "file_extension": ".py",
   "mimetype": "text/x-python",
   "name": "python",
   "nbconvert_exporter": "python",
   "pygments_lexer": "ipython3",
   "version": "3.7.0"
  },
  "orig_nbformat": 4
 },
 "nbformat": 4,
 "nbformat_minor": 2
}
