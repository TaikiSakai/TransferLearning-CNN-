{
 "cells": [
  {
   "cell_type": "code",
   "execution_count": 1,
   "metadata": {},
   "outputs": [],
   "source": [
    "import sys, os\n",
    "from glob import glob\n",
    "\n",
    "import matplotlib.pyplot as plt\n",
    "import numpy as np\n",
    "import tensorflow as tf\n",
    "import keras\n",
    "\n",
    "from tensorflow.keras.utils import img_to_array\n",
    "from keras import layers\n",
    "from keras.layers import Input, Dense, Dropout, Activation, Flatten\n",
    "from keras.applications.vgg16 import VGG16"
   ]
  },
  {
   "cell_type": "code",
   "execution_count": 4,
   "metadata": {},
   "outputs": [],
   "source": [
    "train_dir = \"/Users/taikisakai/git_rep/TransferLearning-CNN-/dataset/train\"\n",
    "test_dir = \"/Users/taikisakai/git_rep/TransferLearning-CNN-/dataset/test\"\n",
    "img_size = 255\n",
    "num_classes = 3\n",
    "class_names = [\"Crazing\", \"Inclusion\", \"Patches\"]"
   ]
  },
  {
   "cell_type": "code",
   "execution_count": 5,
   "metadata": {},
   "outputs": [
    {
     "name": "stderr",
     "output_type": "stream",
     "text": [
      "2023-11-21 21:41:13.313581: I metal_plugin/src/device/metal_device.cc:1154] Metal device set to: Apple M3\n",
      "2023-11-21 21:41:13.313617: I metal_plugin/src/device/metal_device.cc:296] systemMemory: 16.00 GB\n",
      "2023-11-21 21:41:13.313655: I metal_plugin/src/device/metal_device.cc:313] maxCacheSize: 5.33 GB\n",
      "2023-11-21 21:41:13.314338: I tensorflow/core/common_runtime/pluggable_device/pluggable_device_factory.cc:306] Could not identify NUMA node of platform GPU ID 0, defaulting to 0. Your kernel may not have been built with NUMA support.\n",
      "2023-11-21 21:41:13.315121: I tensorflow/core/common_runtime/pluggable_device/pluggable_device_factory.cc:272] Created TensorFlow device (/job:localhost/replica:0/task:0/device:GPU:0 with 0 MB memory) -> physical PluggableDevice (device: 0, name: METAL, pci bus id: <undefined>)\n"
     ]
    }
   ],
   "source": [
    "augment = keras.Sequential(\n",
    "    [layers.RandomFlip(\"horizontal_and_vertical\"), \n",
    "     layers.RandomRotation(0.2)]\n",
    ")"
   ]
  },
  {
   "cell_type": "code",
   "execution_count": 6,
   "metadata": {},
   "outputs": [],
   "source": [
    "data_dir = \"/Users/taikisakai/git_rep/TransferLearning-CNN-/dataset/\"\n",
    "INPUT_TFRECORD_TRAIN = os.path.join(data_dir, \"train_tfrecords\")\n",
    "INPUT_TFRECORD_TEST = os.path.join(data_dir, \"test_tfrecords\")"
   ]
  },
  {
   "cell_type": "code",
   "execution_count": 9,
   "metadata": {},
   "outputs": [],
   "source": [
    "class LoadTfrecords:\n",
    "\n",
    "    def __init__(self, BATCH_SIZE):\n",
    "        self.BATCH_SIZE = BATCH_SIZE\n",
    "\n",
    "\n",
    "    def parse_train(self, serialized):\n",
    "        features = {\"image\": tf.io.FixedLenFeature([], tf.string), \n",
    "                    \"label\": tf.io.FixedLenFeature([], tf.string)}\n",
    "        \n",
    "        parsed = tf.io.parse_single_example(serialized=serialized, \n",
    "                                            features=features)\n",
    "        \n",
    "        image_raw = parsed[\"image\"]\n",
    "        label_raw = parsed[\"label\"]\n",
    "\n",
    "        images = tf.io.decode_raw(image_raw, tf.uint8)\n",
    "        images = tf.cast(images, tf.float32) / 255\n",
    "        images = tf.reshape(images, [200, 200, 3])\n",
    "\n",
    "        labels = tf.io.decode_raw(label_raw, tf.float32)\n",
    "        labels = tf.reshape(labels, [3])\n",
    "\n",
    "        return images, labels\n",
    "    \n",
    "\n",
    "    def parse_test(self, serialized):\n",
    "        features = {\"image\": tf.io.FixedLenFeature([], tf.string), \n",
    "                    \"label\": tf.io.FixedLenFeature([], tf.string)}\n",
    "        \n",
    "        parsed = tf.io.parse_single_example(serialized=serialized, \n",
    "                                            features=features)\n",
    "        \n",
    "        image_raw = parsed[\"image\"]\n",
    "        label_raw = parsed[\"label\"]\n",
    "\n",
    "        images = tf.io.decode_raw(image_raw, tf.uint8)\n",
    "        images = tf.cast(images, tf.float32) / 255\n",
    "        images = tf.reshape(images, [200, 200, 3])\n",
    "\n",
    "        labels = tf.io.decode_raw(label_raw, tf.float32)\n",
    "        labels = tf.reshape(labels, [3])\n",
    "\n",
    "        return images, labels\n"
   ]
  },
  {
   "cell_type": "code",
   "execution_count": 11,
   "metadata": {},
   "outputs": [],
   "source": [
    "parse_data = LoadTfrecords(BATCH_SIZE=32)\n",
    "\n",
    "trainset = tf.data.TFRecordDataset(INPUT_TFRECORD_TRAIN)\n",
    "trainset = trainset.map(parse_data.parse_train)\n",
    "trainset = trainset.shuffle(buffer_size=828)\n",
    "trainset = trainset.repeat(-1)\n",
    "trainset = trainset.batch(32)\n",
    "trainset = trainset.prefetch(buffer_size=4)\n",
    "\n",
    "testset = tf.data.TFRecordDataset(INPUT_TFRECORD_TEST)\n",
    "testset = testset.map(parse_data.parse_test)\n",
    "testset = testset.batch(32)\n",
    "testset = testset.prefetch(buffer_size=2)"
   ]
  },
  {
   "cell_type": "code",
   "execution_count": 2,
   "metadata": {},
   "outputs": [
    {
     "ename": "NameError",
     "evalue": "name 'Input' is not defined",
     "output_type": "error",
     "traceback": [
      "\u001b[0;31m---------------------------------------------------------------------------\u001b[0m",
      "\u001b[0;31mNameError\u001b[0m                                 Traceback (most recent call last)",
      "\u001b[1;32m/Users/taikisakai/git_rep/TransferLearning-CNN-/cnn_test copy.ipynb Cell 7\u001b[0m line \u001b[0;36m1\n\u001b[0;32m----> <a href='vscode-notebook-cell:/Users/taikisakai/git_rep/TransferLearning-CNN-/cnn_test%20copy.ipynb#W6sZmlsZQ%3D%3D?line=0'>1</a>\u001b[0m \u001b[39minput\u001b[39m \u001b[39m=\u001b[39m Input(shape\u001b[39m=\u001b[39m(\u001b[39m200\u001b[39m, \u001b[39m200\u001b[39m, \u001b[39m3\u001b[39m))\n\u001b[1;32m      <a href='vscode-notebook-cell:/Users/taikisakai/git_rep/TransferLearning-CNN-/cnn_test%20copy.ipynb#W6sZmlsZQ%3D%3D?line=1'>2</a>\u001b[0m vgg16 \u001b[39m=\u001b[39m VGG16(include_top\u001b[39m=\u001b[39m\u001b[39mFalse\u001b[39;00m, weights\u001b[39m=\u001b[39m\u001b[39m'\u001b[39m\u001b[39mimagenet\u001b[39m\u001b[39m'\u001b[39m, input_tensor\u001b[39m=\u001b[39m\u001b[39minput\u001b[39m)\n",
      "\u001b[0;31mNameError\u001b[0m: name 'Input' is not defined"
     ]
    }
   ],
   "source": [
    "input = Input(shape=(200, 200, 3))\n",
    "vgg16 = VGG16(include_top=False, weights='imagenet', input_tensor=input)"
   ]
  },
  {
   "cell_type": "code",
   "execution_count": 1,
   "metadata": {},
   "outputs": [
    {
     "ename": "NameError",
     "evalue": "name 'vgg16' is not defined",
     "output_type": "error",
     "traceback": [
      "\u001b[0;31m---------------------------------------------------------------------------\u001b[0m",
      "\u001b[0;31mNameError\u001b[0m                                 Traceback (most recent call last)",
      "\u001b[1;32m/Users/taikisakai/git_rep/TransferLearning-CNN-/cnn_test copy.ipynb Cell 8\u001b[0m line \u001b[0;36m1\n\u001b[0;32m----> <a href='vscode-notebook-cell:/Users/taikisakai/git_rep/TransferLearning-CNN-/cnn_test%20copy.ipynb#X10sZmlsZQ%3D%3D?line=0'>1</a>\u001b[0m x \u001b[39m=\u001b[39m vgg16\u001b[39m.\u001b[39moutput\n\u001b[1;32m      <a href='vscode-notebook-cell:/Users/taikisakai/git_rep/TransferLearning-CNN-/cnn_test%20copy.ipynb#X10sZmlsZQ%3D%3D?line=1'>2</a>\u001b[0m x \u001b[39m=\u001b[39m Flatten(input_shape\u001b[39m=\u001b[39mvgg16\u001b[39m.\u001b[39moutput_shape[\u001b[39m1\u001b[39m:])(x)\n\u001b[1;32m      <a href='vscode-notebook-cell:/Users/taikisakai/git_rep/TransferLearning-CNN-/cnn_test%20copy.ipynb#X10sZmlsZQ%3D%3D?line=2'>3</a>\u001b[0m x \u001b[39m=\u001b[39m Dense(\u001b[39m256\u001b[39m, activation\u001b[39m=\u001b[39m\u001b[39m'\u001b[39m\u001b[39mrelu\u001b[39m\u001b[39m'\u001b[39m)(x)\n",
      "\u001b[0;31mNameError\u001b[0m: name 'vgg16' is not defined"
     ]
    }
   ],
   "source": [
    "x = vgg16.output\n",
    "x = Flatten(input_shape=vgg16.output_shape[1:])(x)\n",
    "x = Dense(256, activation='relu')(x)\n",
    "x = Dropout(0.5)(x)\n",
    "prediction = Dense(3, activation='softmax')(x)\n",
    "model = keras.models.Model(inputs=vgg16.input, outputs=prediction)\n",
    "model.summary()"
   ]
  },
  {
   "cell_type": "code",
   "execution_count": null,
   "metadata": {},
   "outputs": [],
   "source": []
  }
 ],
 "metadata": {
  "kernelspec": {
   "display_name": "tf-macos",
   "language": "python",
   "name": "python3"
  },
  "language_info": {
   "codemirror_mode": {
    "name": "ipython",
    "version": 3
   },
   "file_extension": ".py",
   "mimetype": "text/x-python",
   "name": "python",
   "nbconvert_exporter": "python",
   "pygments_lexer": "ipython3",
   "version": "3.9.18"
  }
 },
 "nbformat": 4,
 "nbformat_minor": 2
}
