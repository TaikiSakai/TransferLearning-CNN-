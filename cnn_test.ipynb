{
 "cells": [
  {
   "cell_type": "code",
   "execution_count": 20,
   "metadata": {},
   "outputs": [],
   "source": [
    "import sys, os\n",
    "from glob import glob\n",
    "\n",
    "import matplotlib.pyplot as plt\n",
    "import numpy as np\n",
    "import tensorflow as tf\n",
    "import keras\n",
    "\n",
    "from tensorflow.keras.utils import img_to_array\n",
    "from keras import layers\n",
    "from keras.layers import Input, Dense, Dropout, Activation, Flatten\n",
    "from keras.applications.vgg16 import VGG16"
   ]
  },
  {
   "cell_type": "code",
   "execution_count": 21,
   "metadata": {},
   "outputs": [],
   "source": [
    "train_dir = \"/Users/taikisakai/git_rep/TransferLearning-CNN-/dataset/train\"\n",
    "test_dir = \"/Users/taikisakai/git_rep/TransferLearning-CNN-/dataset/test\"\n",
    "img_size = 255\n",
    "num_classes = 3\n",
    "class_names = [\"Crazing\", \"Inclusion\", \"Patches\"]"
   ]
  },
  {
   "cell_type": "code",
   "execution_count": 22,
   "metadata": {},
   "outputs": [],
   "source": [
    "augment = keras.Sequential(\n",
    "    [layers.RandomFlip(\"horizontal_and_vertical\"), \n",
    "     layers.RandomRotation(0.2)]\n",
    ")"
   ]
  },
  {
   "cell_type": "code",
   "execution_count": 23,
   "metadata": {},
   "outputs": [],
   "source": [
    "data_dir = \"/Users/taikisakai/git_rep/TransferLearning-CNN-/dataset/\"\n",
    "INPUT_TFRECORD_TRAIN = os.path.join(data_dir, \"train_tfrecords\")\n",
    "INPUT_TFRECORD_TEST = os.path.join(data_dir, \"test_tfrecords\")"
   ]
  },
  {
   "cell_type": "code",
   "execution_count": 24,
   "metadata": {},
   "outputs": [],
   "source": [
    "class LoadTfrecords:\n",
    "\n",
    "    def __init__(self, BATCH_SIZE):\n",
    "        self.BATCH_SIZE = BATCH_SIZE\n",
    "\n",
    "\n",
    "    def parse_train(self, serialized):\n",
    "        features = {\"image\": tf.io.FixedLenFeature([], tf.string), \n",
    "                    \"label\": tf.io.FixedLenFeature([], tf.string)}\n",
    "        \n",
    "        parsed = tf.io.parse_single_example(serialized=serialized, \n",
    "                                            features=features)\n",
    "        \n",
    "        image_raw = parsed[\"image\"]\n",
    "        label_raw = parsed[\"label\"]\n",
    "\n",
    "        images = tf.io.decode_raw(image_raw, tf.uint8)\n",
    "        images = tf.cast(images, tf.float32) / 255\n",
    "        images = tf.reshape(images, [254, 254, 3])\n",
    "\n",
    "        labels = tf.io.decode_raw(label_raw, tf.float32)\n",
    "        labels = tf.reshape(labels, [3])\n",
    "\n",
    "        return images, labels\n",
    "    \n",
    "\n",
    "    def parse_test(self, serialized):\n",
    "        features = {\"image\": tf.io.FixedLenFeature([], tf.string), \n",
    "                    \"label\": tf.io.FixedLenFeature([], tf.string)}\n",
    "        \n",
    "        parsed = tf.io.parse_single_example(serialized=serialized, \n",
    "                                            features=features)\n",
    "        \n",
    "        image_raw = parsed[\"image\"]\n",
    "        label_raw = parsed[\"label\"]\n",
    "\n",
    "        images = tf.io.decode_raw(image_raw, tf.uint8)\n",
    "        images = tf.cast(images, tf.float32) / 255\n",
    "        images = tf.reshape(images, [254, 254, 3])\n",
    "\n",
    "        labels = tf.io.decode_raw(label_raw, tf.float32)\n",
    "        labels = tf.reshape(labels, [3])\n",
    "\n",
    "        return images, labels\n"
   ]
  },
  {
   "cell_type": "code",
   "execution_count": 25,
   "metadata": {},
   "outputs": [],
   "source": [
    "parse_data = LoadTfrecords(BATCH_SIZE=32)\n",
    "\n",
    "trainset = tf.data.TFRecordDataset(INPUT_TFRECORD_TRAIN)\n",
    "trainset = trainset.map(parse_data.parse_train)\n",
    "trainset = trainset.shuffle(buffer_size=828)\n",
    "trainset = trainset.repeat(-1)\n",
    "trainset = trainset.batch(32)\n",
    "trainset = trainset.prefetch(buffer_size=4)\n",
    "\n",
    "testset = tf.data.TFRecordDataset(INPUT_TFRECORD_TEST)\n",
    "testset = testset.map(parse_data.parse_test)\n",
    "testset = testset.batch(32)\n",
    "testset = testset.prefetch(buffer_size=2)"
   ]
  },
  {
   "cell_type": "code",
   "execution_count": 26,
   "metadata": {},
   "outputs": [],
   "source": [
    "input = Input(shape=(254, 254, 3))\n",
    "base_model = VGG16(include_top=False, weights='imagenet', input_tensor=input)"
   ]
  },
  {
   "cell_type": "code",
   "execution_count": 27,
   "metadata": {},
   "outputs": [
    {
     "name": "stdout",
     "output_type": "stream",
     "text": [
      "Model: \"model_1\"\n",
      "_________________________________________________________________\n",
      " Layer (type)                Output Shape              Param #   \n",
      "=================================================================\n",
      " input_2 (InputLayer)        [(None, 254, 254, 3)]     0         \n",
      "                                                                 \n",
      " block1_conv1 (Conv2D)       (None, 254, 254, 64)      1792      \n",
      "                                                                 \n",
      " block1_conv2 (Conv2D)       (None, 254, 254, 64)      36928     \n",
      "                                                                 \n",
      " block1_pool (MaxPooling2D)  (None, 127, 127, 64)      0         \n",
      "                                                                 \n",
      " block2_conv1 (Conv2D)       (None, 127, 127, 128)     73856     \n",
      "                                                                 \n",
      " block2_conv2 (Conv2D)       (None, 127, 127, 128)     147584    \n",
      "                                                                 \n",
      " block2_pool (MaxPooling2D)  (None, 63, 63, 128)       0         \n",
      "                                                                 \n",
      " block3_conv1 (Conv2D)       (None, 63, 63, 256)       295168    \n",
      "                                                                 \n",
      " block3_conv2 (Conv2D)       (None, 63, 63, 256)       590080    \n",
      "                                                                 \n",
      " block3_conv3 (Conv2D)       (None, 63, 63, 256)       590080    \n",
      "                                                                 \n",
      " block3_pool (MaxPooling2D)  (None, 31, 31, 256)       0         \n",
      "                                                                 \n",
      " block4_conv1 (Conv2D)       (None, 31, 31, 512)       1180160   \n",
      "                                                                 \n",
      " block4_conv2 (Conv2D)       (None, 31, 31, 512)       2359808   \n",
      "                                                                 \n",
      " block4_conv3 (Conv2D)       (None, 31, 31, 512)       2359808   \n",
      "                                                                 \n",
      " block4_pool (MaxPooling2D)  (None, 15, 15, 512)       0         \n",
      "                                                                 \n",
      " block5_conv1 (Conv2D)       (None, 15, 15, 512)       2359808   \n",
      "                                                                 \n",
      " block5_conv2 (Conv2D)       (None, 15, 15, 512)       2359808   \n",
      "                                                                 \n",
      " block5_conv3 (Conv2D)       (None, 15, 15, 512)       2359808   \n",
      "                                                                 \n",
      " block5_pool (MaxPooling2D)  (None, 7, 7, 512)         0         \n",
      "                                                                 \n",
      " flatten_1 (Flatten)         (None, 25088)             0         \n",
      "                                                                 \n",
      " dense_2 (Dense)             (None, 256)               6422784   \n",
      "                                                                 \n",
      " dropout_1 (Dropout)         (None, 256)               0         \n",
      "                                                                 \n",
      " dense_3 (Dense)             (None, 3)                 771       \n",
      "                                                                 \n",
      "=================================================================\n",
      "Total params: 21138243 (80.64 MB)\n",
      "Trainable params: 21138243 (80.64 MB)\n",
      "Non-trainable params: 0 (0.00 Byte)\n",
      "_________________________________________________________________\n"
     ]
    }
   ],
   "source": [
    "x = base_model.output\n",
    "x = Flatten(input_shape=base_model.output_shape[1:])(x)\n",
    "x = Dense(256, activation='relu')(x)\n",
    "x = Dropout(0.5)(x)\n",
    "prediction = Dense(3, activation='softmax')(x)\n",
    "model = keras.models.Model(inputs=base_model.input, outputs=prediction)\n",
    "model.summary()"
   ]
  },
  {
   "cell_type": "code",
   "execution_count": 28,
   "metadata": {},
   "outputs": [
    {
     "name": "stdout",
     "output_type": "stream",
     "text": [
      "<keras.src.engine.input_layer.InputLayer object at 0x168c6afa0>, False\n",
      "<keras.src.layers.convolutional.conv2d.Conv2D object at 0x168c65e80>, False\n",
      "<keras.src.layers.convolutional.conv2d.Conv2D object at 0x168b27880>, False\n",
      "<keras.src.layers.pooling.max_pooling2d.MaxPooling2D object at 0x168ac0760>, False\n",
      "<keras.src.layers.convolutional.conv2d.Conv2D object at 0x1655dafd0>, False\n",
      "<keras.src.layers.convolutional.conv2d.Conv2D object at 0x168aad5b0>, False\n",
      "<keras.src.layers.pooling.max_pooling2d.MaxPooling2D object at 0x15f32df70>, False\n",
      "<keras.src.layers.convolutional.conv2d.Conv2D object at 0x15f2eeee0>, False\n",
      "<keras.src.layers.convolutional.conv2d.Conv2D object at 0x15f32d250>, False\n",
      "<keras.src.layers.convolutional.conv2d.Conv2D object at 0x168c7bd00>, False\n",
      "<keras.src.layers.pooling.max_pooling2d.MaxPooling2D object at 0x16b134d00>, False\n",
      "<keras.src.layers.convolutional.conv2d.Conv2D object at 0x16b1347f0>, False\n",
      "<keras.src.layers.convolutional.conv2d.Conv2D object at 0x165036ca0>, False\n",
      "<keras.src.layers.convolutional.conv2d.Conv2D object at 0x165036af0>, False\n",
      "<keras.src.layers.pooling.max_pooling2d.MaxPooling2D object at 0x1650b6640>, False\n",
      "<keras.src.layers.convolutional.conv2d.Conv2D object at 0x16510c580>, False\n",
      "<keras.src.layers.convolutional.conv2d.Conv2D object at 0x1651a46a0>, False\n",
      "<keras.src.layers.convolutional.conv2d.Conv2D object at 0x15f2eefa0>, False\n",
      "<keras.src.layers.pooling.max_pooling2d.MaxPooling2D object at 0x168ca3d90>, False\n"
     ]
    }
   ],
   "source": [
    "for layer in base_model.layers:\n",
    "    layer.trainable = False\n",
    "    print('{}, {}'.format(layer, layer.trainable))"
   ]
  },
  {
   "cell_type": "code",
   "execution_count": 29,
   "metadata": {},
   "outputs": [],
   "source": [
    "model.compile(optimizer=tf.keras.optimizers.legacy.Adam(learning_rate=1e-5), \n",
    "              loss=tf.keras.losses.CategoricalCrossentropy(from_logits=False), \n",
    "              metrics=[\"acc\"])"
   ]
  },
  {
   "cell_type": "code",
   "execution_count": null,
   "metadata": {},
   "outputs": [],
   "source": []
  },
  {
   "cell_type": "code",
   "execution_count": 30,
   "metadata": {},
   "outputs": [
    {
     "name": "stdout",
     "output_type": "stream",
     "text": [
      "Epoch 1/10\n"
     ]
    },
    {
     "name": "stdout",
     "output_type": "stream",
     "text": [
      "25/25 [==============================] - 10s 389ms/step - loss: 1.0843 - acc: 0.4938 - val_loss: 0.5754 - val_acc: 0.9167\n",
      "Epoch 2/10\n"
     ]
    },
    {
     "name": "stderr",
     "output_type": "stream",
     "text": [
      "2023-11-23 22:57:41.455578: I tensorflow/core/framework/local_rendezvous.cc:421] Local rendezvous recv item cancelled. Key hash: 12278958357801169071\n",
      "2023-11-23 22:57:41.455590: I tensorflow/core/framework/local_rendezvous.cc:421] Local rendezvous recv item cancelled. Key hash: 13641910813884678407\n",
      "2023-11-23 22:57:41.455594: I tensorflow/core/framework/local_rendezvous.cc:421] Local rendezvous recv item cancelled. Key hash: 16924182304027069163\n",
      "2023-11-23 22:57:41.455596: I tensorflow/core/framework/local_rendezvous.cc:421] Local rendezvous recv item cancelled. Key hash: 10505398685072539581\n",
      "2023-11-23 22:57:41.455603: I tensorflow/core/framework/local_rendezvous.cc:421] Local rendezvous recv item cancelled. Key hash: 1286690624753509590\n"
     ]
    },
    {
     "name": "stdout",
     "output_type": "stream",
     "text": [
      "25/25 [==============================] - 10s 387ms/step - loss: 0.6147 - acc: 0.7362 - val_loss: 0.3574 - val_acc: 0.9722\n",
      "Epoch 3/10\n",
      "25/25 [==============================] - 10s 385ms/step - loss: 0.3894 - acc: 0.8838 - val_loss: 0.2591 - val_acc: 0.9722\n",
      "Epoch 4/10\n",
      "25/25 [==============================] - 10s 385ms/step - loss: 0.2869 - acc: 0.9212 - val_loss: 0.1983 - val_acc: 0.9722\n",
      "Epoch 5/10\n",
      "25/25 [==============================] - 10s 386ms/step - loss: 0.2196 - acc: 0.9500 - val_loss: 0.1622 - val_acc: 0.9722\n",
      "Epoch 6/10\n",
      "25/25 [==============================] - 10s 386ms/step - loss: 0.1832 - acc: 0.9588 - val_loss: 0.1392 - val_acc: 0.9722\n",
      "Epoch 7/10\n",
      "25/25 [==============================] - 10s 386ms/step - loss: 0.1606 - acc: 0.9613 - val_loss: 0.1297 - val_acc: 1.0000\n",
      "Epoch 8/10\n",
      "25/25 [==============================] - 10s 386ms/step - loss: 0.1386 - acc: 0.9675 - val_loss: 0.1077 - val_acc: 0.9722\n",
      "Epoch 9/10\n",
      "25/25 [==============================] - 10s 386ms/step - loss: 0.1266 - acc: 0.9675 - val_loss: 0.0988 - val_acc: 1.0000\n",
      "Epoch 10/10\n",
      "25/25 [==============================] - 10s 386ms/step - loss: 0.1158 - acc: 0.9712 - val_loss: 0.0924 - val_acc: 1.0000\n"
     ]
    }
   ],
   "source": [
    "history = model.fit(trainset, \n",
    "                    steps_per_epoch=828//32, \n",
    "                    epochs=10, \n",
    "                    validation_data=testset)"
   ]
  },
  {
   "cell_type": "code",
   "execution_count": 31,
   "metadata": {},
   "outputs": [
    {
     "data": {
      "text/plain": [
       "<matplotlib.legend.Legend at 0x17c692280>"
      ]
     },
     "execution_count": 31,
     "metadata": {},
     "output_type": "execute_result"
    },
    {
     "data": {
      "image/png": "[encoded data removed]",
      "text/plain": [
       "<Figure size 640x480 with 1 Axes>"
      ]
     },
     "metadata": {},
     "output_type": "display_data"
    }
   ],
   "source": [
    "plt.plot(history.history['acc'], label='accuracy')\n",
    "plt.plot(history.history['val_acc'], label = 'val_accuracy')\n",
    "plt.plot(history.history['loss'], label='loss')\n",
    "plt.plot(history.history['val_loss'], label = 'val_loss')\n",
    "plt.xlabel('Epoch')\n",
    "plt.ylabel('Accuracy')\n",
    "plt.ylim([0.1, 1])\n",
    "plt.xlim([0, 10])\n",
    "plt.legend(loc='lower right')"
   ]
  },
  {
   "cell_type": "code",
   "execution_count": null,
   "metadata": {},
   "outputs": [],
   "source": []
  }
 ],
 "metadata": {
  "kernelspec": {
   "display_name": "tf-macos",
   "language": "python",
   "name": "python3"
  },
  "language_info": {
   "codemirror_mode": {
    "name": "ipython",
    "version": 3
   },
   "file_extension": ".py",
   "mimetype": "text/x-python",
   "name": "python",
   "nbconvert_exporter": "python",
   "pygments_lexer": "ipython3",
   "version": "3.9.18"
  }
 },
 "nbformat": 4,
 "nbformat_minor": 2
}
